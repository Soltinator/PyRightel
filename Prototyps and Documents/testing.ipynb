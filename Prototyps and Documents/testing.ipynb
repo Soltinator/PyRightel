{
 "cells": [
  {
   "cell_type": "markdown",
   "metadata": {},
   "source": [
    "### sample code and quirks of the rightel API"
   ]
  },
  {
   "cell_type": "code",
   "execution_count": null,
   "metadata": {},
   "outputs": [],
   "source": [
    "import requests"
   ]
  },
  {
   "cell_type": "code",
   "execution_count": null,
   "metadata": {},
   "outputs": [],
   "source": [
    "#Login (sets the token variable for other parts)\n",
    "loginUrl=\"https://myrightel-api.rightel.ir/v2/auth/login/password/\"\n",
    "post='{\"msisdn\":\"#####\",\"password\":\"#####\"}'\n",
    "headers = {\n",
    "\"version\": \"0.13.0\",\n",
    "}\n",
    "\n",
    "test = requests.post(loginUrl,post,headers=headers)\n",
    "token = test.json()[\"data\"][0][\"accessToken\"]\n",
    "print(f\"{test.url}\\n{test.reason}-({test.status_code}) ({test.elapsed})\\n\\nResponse: {test.text}\\n\\nRaw response: {test.content}\\n\\nHeaders:{test.headers}\\nCookies: ({test.cookies})\")"
   ]
  },
  {
   "cell_type": "code",
   "execution_count": null,
   "metadata": {},
   "outputs": [],
   "source": [
    "#verify token\n",
    "authUrl=   \"https://myrightel-api.rightel.ir/v2/auth/\"\n",
    "headers = {\n",
    "\"version\": \"0.13.0\",\n",
    "}\n",
    "headers[\"Authorization\"] = f\"Bearer {token}\"\n",
    "\n",
    "test = requests.post(authUrl,headers=headers)\n",
    "print(f\"{test.url}\\n{test.reason}-({test.status_code}) ({test.elapsed})\\n\\nResponse: {test.text}\\n\\nRaw response: {test.content}\\n\\nHeaders:{test.headers}\\nCookies: ({test.cookies})\")"
   ]
  },
  {
   "cell_type": "code",
   "execution_count": null,
   "metadata": {},
   "outputs": [],
   "source": [
    "#Show simcard balance summery\n",
    "authUrl=   \"https://myrightel-api.rightel.ir/v2/balance/\"\n",
    "headers = {\n",
    "\"version\": \"0.13.0\",\n",
    "}\n",
    "headers[\"Authorization\"] = f\"Bearer {token}\"\n",
    "\n",
    "test = requests.get(authUrl,headers=headers)\n",
    "print(f\"{test.url}\\n{test.reason}-({test.status_code}) ({test.elapsed})\\n\\nResponse: {test.text}\\n\\nRaw response: {test.content}\\n\\nHeaders:{test.headers}\\nCookies: ({test.cookies})\")"
   ]
  },
  {
   "cell_type": "code",
   "execution_count": null,
   "metadata": {},
   "outputs": [],
   "source": [
    "#Show simcard balance list\n",
    "authUrl=   \"https://myrightel-api.rightel.ir/v2/balance/list\"\n",
    "headers = {\n",
    "\"version\": \"0.13.0\",\n",
    "}\n",
    "headers[\"Authorization\"] = f\"Bearer {token}\"\n",
    "\n",
    "test = requests.get(authUrl,headers=headers)\n",
    "print(f\"{test.url}\\n{test.reason}-({test.status_code}) ({test.elapsed})\\n\\nResponse: {test.text}\\n\\nRaw response: {test.content}\\n\\nHeaders:{test.headers}\\nCookies: ({test.cookies})\")"
   ]
  },
  {
   "cell_type": "code",
   "execution_count": null,
   "metadata": {},
   "outputs": [],
   "source": [
    "#Show simcard credit summery\n",
    "authUrl=   \"https://myrightel-api.rightel.ir/v2/credit/\"\n",
    "headers = {\n",
    "\"version\": \"0.13.0\",\n",
    "}\n",
    "headers[\"Authorization\"] = f\"Bearer {token}\"\n",
    "\n",
    "test = requests.get(authUrl,headers=headers)\n",
    "print(f\"{test.url}\\n{test.reason}-({test.status_code}) ({test.elapsed})\\n\\nResponse: {test.text}\\n\\nRaw response: {test.content}\\n\\nHeaders:{test.headers}\\nCookies: ({test.cookies})\")"
   ]
  },
  {
   "cell_type": "code",
   "execution_count": null,
   "metadata": {},
   "outputs": [],
   "source": [
    "#Show simcard packages and their current spent on local or international services\n",
    "authUrl=   \"https://myrightel-api.rightel.ir/v2/balance/usage/\"\n",
    "headers = {\n",
    "\"version\": \"0.13.0\",\n",
    "}\n",
    "headers[\"Authorization\"] = f\"Bearer {token}\"\n",
    "\n",
    "test = requests.get(authUrl,headers=headers)\n",
    "print(f\"{test.url}\\n{test.reason}-({test.status_code}) ({test.elapsed})\\n\\nResponse: {test.text}\\n\\nRaw response: {test.content}\\n\\nHeaders:{test.headers}\\nCookies: ({test.cookies})\")"
   ]
  },
  {
   "cell_type": "code",
   "execution_count": null,
   "metadata": {},
   "outputs": [],
   "source": [
    "#Show shows a list of previously bought packages\n",
    "authUrl=   \"https://myrightel-api.rightel.ir/v2/package/history/\"\n",
    "headers = {\n",
    "\"version\": \"0.13.0\",\n",
    "}\n",
    "headers[\"Authorization\"] = f\"Bearer {token}\"\n",
    "\n",
    "test = requests.get(authUrl,headers=headers)\n",
    "print(f\"{test.url}\\n{test.reason}-({test.status_code}) ({test.elapsed})\\n\\nResponse: {test.text}\\n\\nRaw response: {test.content}\\n\\nHeaders:{test.headers}\\nCookies: ({test.cookies})\")"
   ]
  },
  {
   "cell_type": "code",
   "execution_count": null,
   "metadata": {},
   "outputs": [],
   "source": [
    "#Show simcard owners info\n",
    "authUrl=   \"https://myrightel-api.rightel.ir/v2/profile/\"\n",
    "headers = {\n",
    "\"version\": \"0.13.0\",\n",
    "}\n",
    "headers[\"Authorization\"] = f\"Bearer {token}\"\n",
    "\n",
    "test = requests.get(authUrl,headers=headers)\n",
    "print(f\"{test.url}\\n{test.reason}-({test.status_code}) ({test.elapsed})\\n\\nResponse: {test.text}\\n\\nRaw response: {test.content}\\n\\nHeaders:{test.headers}\\nCookies: ({test.cookies})\")"
   ]
  },
  {
   "cell_type": "code",
   "execution_count": null,
   "metadata": {},
   "outputs": [],
   "source": [
    "#change password\n",
    "authUrl=   \"https://myrightel-api.rightel.ir/v2/auth/password/\"\n",
    "headers = {\n",
    "\"version\": \"0.13.0\",\n",
    "}\n",
    "data='{\"password\":\"#####\",\"repeatPassword\":\"#####\"}'\n",
    "headers[\"Authorization\"] = f\"Bearer {token}\"\n",
    "\n",
    "test = requests.post(authUrl,data,headers=headers)\n",
    "print(f\"{test.url}\\n{test.reason}-({test.status_code}) ({test.elapsed})\\n\\nResponse: {test.text}\\n\\nRaw response: {test.content}\\n\\nHeaders:{test.headers}\\nCookies: ({test.cookies})\")"
   ]
  },
  {
   "cell_type": "code",
   "execution_count": null,
   "metadata": {},
   "outputs": [],
   "source": [
    "#show packages available to buy\n",
    "authUrl=   \"https://myrightel-api.rightel.ir/v2/package/\"\n",
    "headers = {\n",
    "\"version\": \"0.13.0\",\n",
    "}\n",
    "headers[\"Authorization\"] = f\"Bearer {token}\"\n",
    "\n",
    "test = requests.get(authUrl,headers=headers)\n",
    "print(f\"{test.url}\\n{test.reason}-({test.status_code}) ({test.elapsed})\\n\\nResponse: {test.text}\\n\\nRaw response: {test.content}\\n\\nHeaders:{test.headers}\\nCookies: ({test.cookies})\")"
   ]
  }
 ],
 "metadata": {
  "kernelspec": {
   "display_name": "Python 3",
   "language": "python",
   "name": "python3"
  },
  "language_info": {
   "codemirror_mode": {
    "name": "ipython",
    "version": 3
   },
   "file_extension": ".py",
   "mimetype": "text/x-python",
   "name": "python",
   "nbconvert_exporter": "python",
   "pygments_lexer": "ipython3",
   "version": "3.11.2"
  }
 },
 "nbformat": 4,
 "nbformat_minor": 2
}
